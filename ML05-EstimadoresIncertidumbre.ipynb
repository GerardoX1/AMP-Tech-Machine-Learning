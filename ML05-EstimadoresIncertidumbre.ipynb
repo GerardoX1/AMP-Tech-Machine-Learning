{
 "cells": [
  {
   "cell_type": "markdown",
   "metadata": {},
   "source": [
    "# estimadores de incertidumbre"
   ]
  },
  {
   "cell_type": "code",
   "execution_count": 4,
   "metadata": {},
   "outputs": [],
   "source": [
    "from sklearn.datasets import load_iris\n",
    "from sklearn.model_selection import train_test_split\n",
    "from sklearn import svm\n",
    "#el algoritmo a utilizar el es suport vector machine"
   ]
  },
  {
   "cell_type": "code",
   "execution_count": 2,
   "metadata": {},
   "outputs": [],
   "source": [
    "iris = load_iris()"
   ]
  },
  {
   "cell_type": "code",
   "execution_count": 3,
   "metadata": {},
   "outputs": [],
   "source": [
    "Xe,Xt,Ye,Yt = train_test_split(iris[\"data\"],iris[\"target\"])"
   ]
  },
  {
   "cell_type": "code",
   "execution_count": 5,
   "metadata": {},
   "outputs": [],
   "source": [
    "algoritmo = svm.SVC(probability=True)\n"
   ]
  },
  {
   "cell_type": "code",
   "execution_count": 6,
   "metadata": {},
   "outputs": [
    {
     "data": {
      "text/plain": [
       "SVC(C=1.0, cache_size=200, class_weight=None, coef0=0.0,\n",
       "  decision_function_shape='ovr', degree=3, gamma='auto', kernel='rbf',\n",
       "  max_iter=-1, probability=True, random_state=None, shrinking=True,\n",
       "  tol=0.001, verbose=False)"
      ]
     },
     "execution_count": 6,
     "metadata": {},
     "output_type": "execute_result"
    }
   ],
   "source": [
    "algoritmo.fit(Xe,Ye)"
   ]
  },
  {
   "cell_type": "code",
   "execution_count": 8,
   "metadata": {},
   "outputs": [
    {
     "data": {
      "text/plain": [
       "array([[-0.3519559 ,  1.17174457,  2.18021133],\n",
       "       [-0.26584754,  0.83139576,  2.43445179],\n",
       "       [ 0.82074092,  2.38024681, -0.20098773],\n",
       "       [-0.3222168 ,  2.41224561,  0.90997118],\n",
       "       [-0.33134317,  2.33463453,  0.99670864],\n",
       "       [-0.3075966 ,  2.5       ,  0.8075966 ],\n",
       "       [-0.32407233,  0.91600434,  2.40806798],\n",
       "       [ 2.39430829,  0.82763584, -0.22194413],\n",
       "       [-0.35106506,  2.34692519,  1.00413988],\n",
       "       [-0.33431454,  2.26127957,  1.07303497]])"
      ]
     },
     "execution_count": 8,
     "metadata": {},
     "output_type": "execute_result"
    }
   ],
   "source": [
    "algoritmo.decision_function_shape = \"ovr\"\n",
    "algoritmo.decision_function(Xt)[:10]\n",
    "#funciones para estimar la incertidumbre!!\n",
    "#nos da la distancia a la recta"
   ]
  },
  {
   "cell_type": "code",
   "execution_count": 12,
   "metadata": {},
   "outputs": [
    {
     "data": {
      "text/plain": [
       "array([[0.01675911, 0.48579682, 0.49744407],\n",
       "       [0.01542768, 0.01880264, 0.96576969],\n",
       "       [0.03247491, 0.94078722, 0.02673787],\n",
       "       [0.01579849, 0.96473102, 0.01947049],\n",
       "       [0.01681268, 0.92276218, 0.06042514],\n",
       "       [0.01048262, 0.98151104, 0.00800634],\n",
       "       [0.01296141, 0.02733063, 0.95970796],\n",
       "       [0.96017237, 0.02179842, 0.01802921],\n",
       "       [0.01289696, 0.92418923, 0.06291381],\n",
       "       [0.01639592, 0.77535519, 0.20824889]])"
      ]
     },
     "execution_count": 12,
     "metadata": {},
     "output_type": "execute_result"
    }
   ],
   "source": [
    "algoritmo.predict_proba(Xt)[:10]\n",
    "#probabilidad de que pertenece a cada target"
   ]
  },
  {
   "cell_type": "code",
   "execution_count": 13,
   "metadata": {},
   "outputs": [
    {
     "data": {
      "text/plain": [
       "array([2, 2, 1, 1, 1, 1, 2, 0, 1, 1])"
      ]
     },
     "execution_count": 13,
     "metadata": {},
     "output_type": "execute_result"
    }
   ],
   "source": [
    "algoritmo.predict(Xt)[:10]\n",
    "#como clasifico los 10 elementos de prueba"
   ]
  },
  {
   "cell_type": "code",
   "execution_count": null,
   "metadata": {},
   "outputs": [],
   "source": []
  }
 ],
 "metadata": {
  "kernelspec": {
   "display_name": "Python 3",
   "language": "python",
   "name": "python3"
  },
  "language_info": {
   "codemirror_mode": {
    "name": "ipython",
    "version": 3
   },
   "file_extension": ".py",
   "mimetype": "text/x-python",
   "name": "python",
   "nbconvert_exporter": "python",
   "pygments_lexer": "ipython3",
   "version": "3.6.4"
  }
 },
 "nbformat": 4,
 "nbformat_minor": 2
}
